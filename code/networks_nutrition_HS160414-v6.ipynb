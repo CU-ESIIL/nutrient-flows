{
 "cells": [
  {
   "cell_type": "code",
   "execution_count": null,
   "id": "ad8f8df4-853e-4be8-bfdf-4442097a4620",
   "metadata": {},
   "outputs": [],
   "source": [
    "# Requires directories named \"figures\" and \"frames\" to be present"
   ]
  },
  {
   "cell_type": "code",
   "execution_count": 1,
   "id": "035a7e39-39d9-4a1f-9ed4-61568dc42fb3",
   "metadata": {},
   "outputs": [],
   "source": [
    "import numpy as np\n",
    "import matplotlib.pyplot as plt\n",
    "import networkx as nx\n",
    "import csv\n",
    "\n",
    "\n",
    "\n",
    "# get in-strength of directed graph g\n",
    "def compute_in_strength(g, node):\n",
    "    # all incoming edges\n",
    "    in_edges = g.in_edges(node, data=True)\n",
    "    # add up their in-weights\n",
    "    in_strength = sum(data['weight'] for _, _, data in in_edges)\n",
    "    return in_strength\n",
    "\n",
    "\n",
    "def compute_out_strength(g, node):\n",
    "    # all outgoing edges\n",
    "    out_edges = g.out_edges(node, data=True)\n",
    "    # out_weights\n",
    "    out_strength = sum(data['weight'] for _, _, data in out_edges)\n",
    "    return out_strength\n",
    "\n",
    "\n",
    "def weighted_directed_time_aggregation(G_dict):\n",
    "    '''\n",
    "    Build time-aggregated network (weighted by flow of nutrients)\n",
    "    Input: G_dict (dictionary of graph snapshots)\n",
    "\n",
    "    '''\n",
    "    \n",
    "    # initialize a directed graph\n",
    "    GG = nx.DiGraph()\n",
    "    \n",
    "    # loop over graph snapshots\n",
    "    for g in G_dict.values():\n",
    "    \n",
    "        # loop over edges\n",
    "        for i,j,data in g.edges(data=True):\n",
    "    \n",
    "            # increment the weight at the link (i,j)\n",
    "            w = data['weight']\n",
    "            prev_data = GG.get_edge_data(i,j)\n",
    "            GG.add_edge(i,j, key='edge', weight = data['weight'] + w)\n",
    "\n",
    "    return GG\n",
    "\n",
    "def get_undirected(GG):\n",
    "    # make an undirected graph g with the same node-set as GG but no weights/directionality\n",
    "    g = nx.Graph()\n",
    "    g.add_nodes_from(GG.nodes())\n",
    "    for i,j in GG.edges():\n",
    "        g.add_edge(i,j)\n",
    "    return g\n",
    "\n",
    "\n",
    "\n",
    "def build_graph_sequence(E,years,nodes):\n",
    "    \n",
    "    G = {year:nx.DiGraph() for year in years}\n",
    "    \n",
    "    for year in years:\n",
    "        G[year].add_nodes_from(nodes)\n",
    "    \n",
    "    for i,j,w,t in E:\n",
    "        G[t].add_edge(i,j,weight=w)\n",
    "    \n",
    "    return G\n"
   ]
  },
  {
   "cell_type": "code",
   "execution_count": 2,
   "id": "6f305007-3814-43ee-9123-ec3cb616980b",
   "metadata": {},
   "outputs": [],
   "source": [
    "# select nutrient whose flow to analyze\n",
    "nutrient = 8 # iron_sum\n",
    "\n",
    "# other options:\n",
    "#4 '\"protein_sum\"',\n",
    "#5 '\"fattyacids_sum\"',\n",
    "#6 '\"calcium_sum\"',\n",
    "#7 '\"zinc_sum\"',\n",
    "#8 '\"iron_sum\"',\n",
    "#9 '\"vita_sum\"',\n",
    "#10 '\"vitb12_sum\"',\n",
    "#11 '\"protein_norm\"',\n",
    "#12 '\"fattyacids_norm\"',\n",
    "#13 '\"calcium_norm\"',\n",
    "#14 '\"zinc_norm\"',\n",
    "#15 '\"iron_norm\"',\n",
    "#16 '\"vita_norm\"',\n",
    "#17 '\"vitb12_norm\"',\n",
    "#18 '\"shannon_diversity\"',\n",
    "#19 '\"norm_sum\"'\n",
    "\n",
    "# build temporal edgelist wight weights being nutrient flows\n",
    "E = []\n",
    "\n",
    "# read from nutrition data file\n",
    "with open('data/nut_pict_hs160414.csv') as f:\n",
    "    rea = csv.reader(f,delimiter = ' ')\n",
    "\n",
    "    # extract data\n",
    "    for jrow,row in enumerate(rea):\n",
    "\n",
    "        # column names\n",
    "        if jrow == 0:\n",
    "            headers = row[0].split(',')\n",
    "\n",
    "        # exporter, importer, year, nutrient flow\n",
    "        else:\n",
    "            values = row[0].split(',')\n",
    "            expo = str(values[1].strip(\"\\\"\"))\n",
    "            impo = str(values[0].strip(\"\\\"\"))\n",
    "            year = int(values[2])\n",
    "            weig = float(values[nutrient])\n",
    "\n",
    "            # add as a tuple encoding a weighted temporal edge\n",
    "            E.append((expo,impo,weig,year))\n",
    "\n",
    "# obtain all nodes appearing throughout\n",
    "nodes = set([e[0] for e in E]).union(set([e[1] for e in E]))\n",
    "\n",
    "# years in the dataset\n",
    "years = sorted(list(set([e[3] for e in E])))\n",
    "\n",
    "# construct sequence of weighted directed graphs by year\n",
    "G = build_graph_sequence(E,years,nodes)\n",
    "\n",
    "# obtain time-aggregated network\n",
    "GG = weighted_directed_time_aggregation(G)\n",
    "\n",
    "# obtain strengths/surplusses\n",
    "in_stre = {node: compute_in_strength(GG,node) for node in nodes}\n",
    "ou_stre = {node: compute_out_strength(GG,node) for node in nodes}\n",
    "surplus = {v:(ou_stre[v]-in_stre[v]) for v in GG.nodes()}\n",
    "\n",
    "# label PICs as such\n",
    "PICs = {\"FJI\", \"FSM\", \"KIR\", \"MHL\", \n",
    "        \"NRU\", \"PLW\", \"PNG\", \"SLB\", \n",
    "        \"TON\", \"TUV\", \"VUT\", \"WSM\"}\n",
    "\n",
    "# all the rest are non-PICs\n",
    "nonPICs = nodes.difference(PICs)\n"
   ]
  },
  {
   "cell_type": "code",
   "execution_count": null,
   "id": "612e771c-e833-4422-8dd8-55afce72af5e",
   "metadata": {},
   "outputs": [],
   "source": []
  },
  {
   "cell_type": "markdown",
   "id": "8013250e-685e-4dd0-a745-bcec36d9ab47",
   "metadata": {},
   "source": [
    "# Snapshot visualizations"
   ]
  },
  {
   "cell_type": "code",
   "execution_count": 3,
   "id": "1acfa891-66a8-4b8e-885b-1b44298aeffd",
   "metadata": {},
   "outputs": [
    {
     "data": {
      "text/plain": [
       "'\\n gif made by the following commands:\\n\\nffmpeg -framerate 10 -i frames/year_%04d.png -vf \"fps=10,scale=500:-1:flags=lanczos,palettegen\" -y palette.png\\nffmpeg -framerate 10 -i frames/year_%04d.png -i palette.png -lavfi \"fps=5,scale=1000:-1:flags=lanczos [x]; [x][1:v] paletteuse\" -y out.gif\\n\\n'"
      ]
     },
     "execution_count": 3,
     "metadata": {},
     "output_type": "execute_result"
    }
   ],
   "source": [
    "# get undirected graph for embedding\n",
    "GGG = get_undirected(GG)\n",
    "po = nx.kamada_kawai_layout(get_undirected(GG))\n",
    "\n",
    "# Determine x-axis and y-axis limits\n",
    "xlow = np.min([p[0] for p in po.values()]) - 0.1\n",
    "xhigh = np.max([p[0] for p in po.values()]) + 0.1\n",
    "ylow = np.min([p[1] for p in po.values()]) - 0.1\n",
    "yhigh = np.max([p[1] for p in po.values()]) + 0.1\n",
    "\n",
    "\n",
    "# color assignment to PICs\n",
    "np.random.seed(1000)\n",
    "co = {v:(0.3+0.7*np.random.rand()**0.5,0.3+0.5*np.random.rand(),np.random.rand()**2) if v in PICs else 'lightgrey' for v in nodes}\n",
    "cov = np.array([co[v] for v in GG.nodes],dtype=object)   # vector of node-colors\n",
    "\n",
    "# visualize graph structure at each year\n",
    "for jy,y in enumerate(years):\n",
    "    \n",
    "    fi,ax = plt.subplots(1,figsize=(4,4),dpi=200)\n",
    "    # set a fixed x/y limit for all snapshots\n",
    "    plt.xlim(xlow,xhigh)\n",
    "    plt.ylim(ylow,yhigh)\n",
    "\n",
    "    # draw nodes and edges\n",
    "    nx.draw_networkx_edges(G[y], edge_color='black', pos=po)\n",
    "    nx.draw_networkx_nodes(G[y], node_size=50, node_color=cov, pos=po)\n",
    "    nx.draw_networkx_labels(G[y],pos = po, font_size=5)\n",
    "    plt.box(False)\n",
    "    plt.xlabel('$%i$'%y)\n",
    "    \n",
    "    plt.savefig('frames/pdf_year%i.pdf'%y)\n",
    "\n",
    "    # save as png for conversion to gif \n",
    "    plt.savefig('frames/year_%04i.png'%jy)\n",
    "    \n",
    "    plt.close()\n",
    "\n",
    "\n",
    "'''\n",
    " gif made by the following commands:\n",
    "\n",
    "ffmpeg -framerate 10 -i frames/year_%04d.png -vf \"fps=10,scale=500:-1:flags=lanczos,palettegen\" -y palette.png\n",
    "ffmpeg -framerate 10 -i frames/year_%04d.png -i palette.png -lavfi \"fps=5,scale=1000:-1:flags=lanczos [x]; [x][1:v] paletteuse\" -y out.gif\n",
    "\n",
    "'''\n"
   ]
  },
  {
   "cell_type": "code",
   "execution_count": null,
   "id": "31fa51b2-4771-4076-9cfb-59be69cb8b46",
   "metadata": {},
   "outputs": [],
   "source": []
  },
  {
   "cell_type": "markdown",
   "id": "58654ba1-8f18-48f8-859b-bc21b2b906a5",
   "metadata": {},
   "source": [
    "# Local node statistics"
   ]
  },
  {
   "cell_type": "code",
   "execution_count": 4,
   "id": "8d73f304-0091-4c3e-8fa4-29b83e4bd076",
   "metadata": {},
   "outputs": [
    {
     "name": "stdout",
     "output_type": "stream",
     "text": [
      "highest out-degree:\n",
      "[('PNG', 36), ('FJI', 31), ('SLB', 17), ('NZL', 9), ('THA', 8), ('CHN', 7), ('AUS', 6), ('PHL', 5), ('IDN', 5), ('USA', 4)]\n",
      "\n",
      "\n",
      " highest in-degree:\n",
      "[('PNG', 18), ('FJI', 18), ('FSM', 14), ('VUT', 13), ('WSM', 9), ('SLB', 8), ('USA', 6), ('THA', 6), ('NZL', 5), ('KIR', 5)]\n",
      "highest out-strength:\n",
      "[('SLB', 250162795.7545389), ('FJI', 218399906.86604965), ('PNG', 73157087.49978846), ('THA', 56447253.76385526), ('VUT', 13230044.03584612), ('CHN', 11247359.065018915), ('SGP', 6692711.710255656), ('PHL', 6511607.311321336), ('PER', 4291805.311252668), ('IDN', 4004732.6433024164)]\n",
      "\n",
      "\n",
      " highest in-strength:\n",
      "[('USA', 188693569.79081136), ('ITA', 185265555.9423861), ('FJI', 85103687.94859198), ('ESP', 41067237.84450108), ('VUT', 37951244.762483425), ('DEU', 32663683.3752417), ('PNG', 25613873.093766358), ('FSM', 10225983.559193857), ('SLB', 8268395.14253244), ('THA', 7594387.705406286)]\n",
      "\n",
      "\n",
      " highest surplus (positive net exports)\n",
      "[('SLB', 241894400.61200646), ('FJI', 133296218.91745767), ('THA', 48852866.05844898), ('PNG', 47543214.4060221), ('CHN', 11247359.065018915), ('SGP', 6685214.169698669), ('PHL', 6469531.284137869), ('PER', 4291805.311252668), ('IDN', 3998477.3423083024), ('MYS', 2049838.1030707639)]\n",
      "\n",
      "\n",
      " lowest surplus (highest deficit, negative net exports)\n",
      "[('USA', -188016402.90376544), ('ITA', -185217034.3539795), ('ESP', -39690013.27673579), ('DEU', -32618959.156247184), ('VUT', -24721200.726637304), ('FSM', -9785545.926552435), ('AUT', -4939519.49560158), ('AUS', -4656020.932010526), ('JPN', -4558187.979318473), ('GBR', -2651225.732804043)]\n"
     ]
    }
   ],
   "source": [
    "# print out local degree/strength/surplus info\n",
    "\n",
    "print('highest out-degree:')\n",
    "print(sorted(GG.out_degree(),key=lambda z:z[1],reverse=True)[0:10])\n",
    "\n",
    "print('\\n\\n highest in-degree:')\n",
    "print(sorted(GG.in_degree(),key=lambda z:z[1],reverse=True)[0:10])\n",
    "\n",
    "print('highest out-strength:')\n",
    "print(sorted(ou_stre.items(),key=lambda z:z[1],reverse=True)[0:10])\n",
    "\n",
    "print('\\n\\n highest in-strength:')\n",
    "print(sorted(in_stre.items(),key = lambda z:z[1],reverse=True)[0:10])\n",
    "\n",
    "print('\\n\\n highest surplus (positive net exports)')\n",
    "print(sorted(surplus.items(),key = lambda z:z[1],reverse=True)[0:10])\n",
    "\n",
    "print('\\n\\n lowest surplus (highest deficit, negative net exports)')\n",
    "print(sorted(surplus.items(),key = lambda z:z[1],reverse=False)[0:10])\n"
   ]
  },
  {
   "cell_type": "code",
   "execution_count": null,
   "id": "2cc5301f-dde3-4ca1-bdff-ba72ea7fe385",
   "metadata": {},
   "outputs": [],
   "source": []
  },
  {
   "cell_type": "markdown",
   "id": "241fa882-a046-4a3f-9913-73a00fdf031c",
   "metadata": {},
   "source": [
    "# Surplus (out-strength minus in-strength) visualizations"
   ]
  },
  {
   "cell_type": "code",
   "execution_count": 5,
   "id": "46ea6894-f152-49ea-b7ab-580af07182aa",
   "metadata": {},
   "outputs": [
    {
     "data": {
      "image/png": "[encoded data removed]",
      "text/plain": [
       "<Figure size 1000x400 with 1 Axes>"
      ]
     },
     "metadata": {},
     "output_type": "display_data"
    }
   ],
   "source": [
    "# visualize surplusses (in time-aggregated network) -- non-log y-scale\n",
    "\n",
    "fi,ax = plt.subplots(1,figsize=(5,2),dpi=200)\n",
    "\n",
    "sign = 1\n",
    "\n",
    "for j,(v,sur) in enumerate(sorted(surplus.items(),key = lambda z:z[1],reverse=True)):\n",
    "    \n",
    "    # mark where it goes from positive to negative\n",
    "    if sign!=np.sign(sur):\n",
    "        plt.plot([len(nodes)-j+0.5,len(nodes)-j+0.5],[-int(10**8),int(10**8)],color='grey')\n",
    "    sign = np.sign(sur)\n",
    "\n",
    "    # label PICs with color \n",
    "    la = v if v in PICs else None\n",
    "    plt.plot( [len(nodes)-j], [sur], '.', ms=5, color=co[v], label=la )\n",
    "\n",
    "plt.legend( loc=(1,0), fontsize=5 )\n",
    "\n",
    "plt.ylabel('Surplus')\n",
    "plt.xlabel('Rank')\n",
    "\n",
    "plt.tight_layout()\n",
    "\n",
    "plt.savefig('figs/surplus_lin.pdf')"
   ]
  },
  {
   "cell_type": "code",
   "execution_count": null,
   "id": "7eee95bd-d62c-493b-b65c-10dbbe53db84",
   "metadata": {},
   "outputs": [],
   "source": []
  },
  {
   "cell_type": "code",
   "execution_count": 6,
   "id": "893f7d71-78d3-4362-848a-e6a92f756bc7",
   "metadata": {},
   "outputs": [
    {
     "data": {
      "image/png": "[encoded data removed]",
      "text/plain": [
       "<Figure size 1000x400 with 1 Axes>"
      ]
     },
     "metadata": {},
     "output_type": "display_data"
    }
   ],
   "source": [
    "# visualize surplusses (in time-aggregated network) -- log scale (all values made positive)\n",
    "\n",
    "fi,ax = plt.subplots(1,figsize=(5,2),dpi=200)\n",
    "\n",
    "sign = 1\n",
    "\n",
    "for j,(v,sur) in enumerate(sorted(surplus.items(),key = lambda z:z[1],reverse=True)):\n",
    "    \n",
    "    # mark where it goes from positive to negative\n",
    "    if sign!=np.sign(sur):\n",
    "        plt.plot([len(nodes)-j+0.5,len(nodes)-j+0.5],[-int(10**8),int(10**8)],color='grey')\n",
    "    sign = np.sign(sur)\n",
    "\n",
    "    # label PICs with color \n",
    "    la = v if v in PICs else None\n",
    "    plt.semilogy( [len(nodes)-j], [np.abs(sur)], '.', ms=5, color=co[v], label=la )\n",
    "\n",
    "plt.legend( loc=(1,0), fontsize=5 )\n",
    "\n",
    "plt.ylabel('|Surplus|')\n",
    "plt.xlabel('Rank')\n",
    "\n",
    "plt.tight_layout()\n",
    "\n",
    "plt.savefig('figs/abs_surplus_logscale.pdf')"
   ]
  },
  {
   "cell_type": "code",
   "execution_count": null,
   "id": "bec1f454-278c-425c-867a-0b71c121a2f6",
   "metadata": {},
   "outputs": [],
   "source": []
  },
  {
   "cell_type": "code",
   "execution_count": null,
   "id": "8d9ba366-12f2-4988-bfd9-d40b4f8ec93d",
   "metadata": {},
   "outputs": [],
   "source": []
  }
 ],
 "metadata": {
  "kernelspec": {
   "display_name": "Python 3 (ipykernel)",
   "language": "python",
   "name": "python3"
  },
  "language_info": {
   "codemirror_mode": {
    "name": "ipython",
    "version": 3
   },
   "file_extension": ".py",
   "mimetype": "text/x-python",
   "name": "python",
   "nbconvert_exporter": "python",
   "pygments_lexer": "ipython3",
   "version": "3.8.8"
  }
 },
 "nbformat": 4,
 "nbformat_minor": 5
}
